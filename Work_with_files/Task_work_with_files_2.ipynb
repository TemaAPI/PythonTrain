{
 "cells": [
  {
   "cell_type": "code",
   "execution_count": 12,
   "id": "12801947-ee62-4359-b2c9-21b93efe878f",
   "metadata": {},
   "outputs": [],
   "source": [
    "import json\n",
    "import csv\n",
    "\n",
    "purchases = {}\n",
    "with open('purchase_log.txt', 'r', encoding='utf-8') as f:\n",
    "    for line in f:\n",
    "        purchase = json.loads(line.strip())\n",
    "        user_id = purchase['user_id']\n",
    "        category = purchase['category']\n",
    "        purchases[user_id] = category\n",
    "\n",
    "with open('visit_log.csv', 'r', encoding='utf-8') as f, \\\n",
    "     open('funnel.csv', 'w', encoding='utf-8', newline='') as out_file:\n",
    "    writer = csv.writer(out_file)\n",
    "    for line in f:\n",
    "        user_id, source = line.strip().split(',')\n",
    "        if user_id in purchases:\n",
    "            category = purchases[user_id]\n",
    "            writer.writerow([user_id, source, category])"
   ]
  },
  {
   "cell_type": "code",
   "execution_count": null,
   "id": "eb785db8-7cf3-45ab-b6c0-0ea92991c540",
   "metadata": {},
   "outputs": [],
   "source": []
  }
 ],
 "metadata": {
  "kernelspec": {
   "display_name": "Python 3 (ipykernel)",
   "language": "python",
   "name": "python3"
  },
  "language_info": {
   "codemirror_mode": {
    "name": "ipython",
    "version": 3
   },
   "file_extension": ".py",
   "mimetype": "text/x-python",
   "name": "python",
   "nbconvert_exporter": "python",
   "pygments_lexer": "ipython3",
   "version": "3.12.0"
  }
 },
 "nbformat": 4,
 "nbformat_minor": 5
}
