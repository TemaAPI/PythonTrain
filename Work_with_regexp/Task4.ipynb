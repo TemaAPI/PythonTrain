{
 "cells": [
  {
   "cell_type": "markdown",
   "id": "4ef7cbdb-e150-4fe4-881b-0ad275ed42d8",
   "metadata": {},
   "source": [
    "Задание 1\n"
   ]
  },
  {
   "cell_type": "markdown",
   "id": "a016550f-ffec-4713-9d4d-d8b4fad807cb",
   "metadata": {},
   "source": [
    "Напишите функцию, которая принимает на вход строку и проверяет, является ли она валидным транспортным номером (1 буква, 3 цифры, 2 буквы, 2–3 цифры). Обратите внимание, что не все буквы кириллического алфавита используются в транспортных номерах.\r\n",
    "\r\n",
    "Если номер валиден, то функция должна возвращать отдельно номер и регион."
   ]
  },
  {
   "cell_type": "code",
   "execution_count": 1,
   "id": "ae348e57-a0a1-470b-bf78-b18bddd580d1",
   "metadata": {},
   "outputs": [],
   "source": [
    "import re"
   ]
  },
  {
   "cell_type": "code",
   "execution_count": 2,
   "id": "1a8f9465-51ca-4d5d-9cc5-2dcfaa66b27b",
   "metadata": {},
   "outputs": [],
   "source": [
    "def check_transport_number(car_id):\n",
    "    pattern = r'^[АВЕКМНОРСТУХABEKMHOPCTYX]{1}\\d{3}[АВЕКМНОРСТУХABEKMHOPCTYX]{2}\\d{2,3}$'\n",
    "    if re.match(pattern, car_id):\n",
    "        number = car_id[:6]\n",
    "        region = car_id[6:]\n",
    "        return f\"Номер {number} валиден. Регион: {region}.\"\n",
    "    else:\n",
    "        return \"Номер не валиден.\""
   ]
  },
  {
   "cell_type": "code",
   "execution_count": 3,
   "id": "d4907811-a268-47b2-8c9a-f5f715a1ef31",
   "metadata": {},
   "outputs": [
    {
     "name": "stdout",
     "output_type": "stream",
     "text": [
      "Номер А222BС валиден. Регион: 96.\n"
     ]
    }
   ],
   "source": [
    "car_id = 'А222BС96'\n",
    "print(check_transport_number(car_id))"
   ]
  },
  {
   "cell_type": "code",
   "execution_count": 4,
   "id": "c2553f4c-2620-47cf-a566-39785232bf84",
   "metadata": {},
   "outputs": [
    {
     "name": "stdout",
     "output_type": "stream",
     "text": [
      "Номер не валиден.\n"
     ]
    }
   ],
   "source": [
    "car_id = 'АБ22ВВ193'\n",
    "print(check_transport_number(car_id))"
   ]
  },
  {
   "cell_type": "markdown",
   "id": "db1aacdc-65a2-46d5-9c33-35001f54cb3c",
   "metadata": {},
   "source": [
    "Задание 2"
   ]
  },
  {
   "cell_type": "markdown",
   "id": "209471b6-e7aa-4f6e-b188-f0ab6e9691d5",
   "metadata": {},
   "source": [
    "Напишите функцию, которая будет удалять все последовательные повторы слов из заданной строки при помощи регулярных выражений.\r\n",
    "\r\n",
    "Пример работы программы:\r\n",
    "some_string = ‘Напишите функцию функцию, которая будет будет будет будет удалять все все все все последовательные повторы слов из из из из заданной строки строки при помощи регулярных выражений’\r\n",
    "\r\n",
    "Результат: Напишите функцию, которая будет удалять все последовательные повторы слов из заданной строки при помощи регулярных выражений."
   ]
  },
  {
   "cell_type": "code",
   "execution_count": 5,
   "id": "d837f566-eddc-49ab-ba4b-3b5422a66443",
   "metadata": {},
   "outputs": [],
   "source": [
    "def remove_duplicate_words(text_str):\n",
    "    pattern = r'\\b(\\w+)(\\s+\\1)+\\b'\n",
    "    return re.sub(pattern, r'\\1', text_str)"
   ]
  },
  {
   "cell_type": "code",
   "execution_count": 6,
   "id": "b34ce304-cf92-44ec-8517-15f77f4a2001",
   "metadata": {},
   "outputs": [
    {
     "name": "stdout",
     "output_type": "stream",
     "text": [
      "Напишите функцию, которая будет удалять все последовательные повторы слов из заданной строки при помощи регулярных выражений\n"
     ]
    }
   ],
   "source": [
    "some_string = 'Напишите функцию функцию, которая будет будет будет будет удалять все все все все последовательные повторы слов из из из из заданной строки строки при помощи регулярных выражений'\n",
    "print(remove_duplicate_words(some_string))"
   ]
  },
  {
   "cell_type": "code",
   "execution_count": null,
   "id": "dd377649-72c8-4e8c-b3ef-1b7e85ecb119",
   "metadata": {},
   "outputs": [],
   "source": []
  }
 ],
 "metadata": {
  "kernelspec": {
   "display_name": "Python 3 (ipykernel)",
   "language": "python",
   "name": "python3"
  },
  "language_info": {
   "codemirror_mode": {
    "name": "ipython",
    "version": 3
   },
   "file_extension": ".py",
   "mimetype": "text/x-python",
   "name": "python",
   "nbconvert_exporter": "python",
   "pygments_lexer": "ipython3",
   "version": "3.12.0"
  }
 },
 "nbformat": 4,
 "nbformat_minor": 5
}
